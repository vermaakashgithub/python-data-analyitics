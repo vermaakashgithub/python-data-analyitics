{
 "cells": [
  {
   "cell_type": "markdown",
   "metadata": {},
   "source": [
    "### data structure\n"
   ]
  },
  {
   "cell_type": "markdown",
   "metadata": {},
   "source": [
    "-list\n",
    "  -\n",
    "  "
   ]
  },
  {
   "cell_type": "markdown",
   "metadata": {},
   "source": [
    "## 1. Creation"
   ]
  },
  {
   "cell_type": "code",
   "execution_count": null,
   "metadata": {},
   "outputs": [
    {
     "name": "stdout",
     "output_type": "stream",
     "text": [
      "[10, 20, 'red', 'true', 3.145, 10] <class 'list'>\n",
      "(1, 2, 3, 4, 5, 'apple', 2) <class 'tuple'>\n",
      "{1, 2, 3, 4, 5} <class 'set'>\n",
      "{'title': 'samosa', 'price': '10', 'qty': '5'} <class 'dict'>\n"
     ]
    }
   ],
   "source": [
    "x1= [10,20,'red','true',3.145, 10] #list\n",
    "print(x1, type(x1))\n",
    "x2= (1,2,3,4,5,'apple',2) #tuple\n",
    "print(x2,type(x2))\n",
    "x3= {1,2,3,4,5,2} #set\n",
    "print(x3,type(x3))\n",
    "x4= {'title':'samosa','price':'10', 'qty':'5'} #dict\n",
    "print(x4,type(x4))"
   ]
  },
  {
   "cell_type": "markdown",
   "metadata": {},
   "source": [
    "## 2.Accessing elements"
   ]
  },
  {
   "cell_type": "code",
   "execution_count": null,
   "metadata": {},
   "outputs": [
    {
     "name": "stdout",
     "output_type": "stream",
     "text": [
      "getting items from list\n",
      "first element: 10\n",
      "second element: 20\n",
      "third element: red\n",
      "last element: 10\n",
      "--------------------\n",
      "getting items from tuple\n",
      "first element: 1\n",
      "second element: 2\n",
      "third element: 3\n",
      "last element: 2\n",
      "--------------------\n",
      "getting items from set\n",
      "⚠️ we cannot, as sets are unordered\n",
      "--------------------\n",
      "getting items from dict\n",
      "Title samosa\n",
      "Price 10\n",
      "Quantity 5\n"
     ]
    }
   ],
   "source": [
    "print('getting items from list')\n",
    "print('first element:', x1[0])\n",
    "print('second element:',x1[1])\n",
    "print('third element:',x1[2])\n",
    "print('last element:',x1[-1])\n",
    "print('--' * 10)\n",
    "print('getting items from tuple')\n",
    "print('first element:', x2[0])\n",
    "print('second element:',x2[1])\n",
    "print('third element:',x2[2])\n",
    "print('last element:',x2[-1])\n",
    "print('--' * 10)\n",
    "print('getting items from set')\n",
    "print('⚠️ we cannot, as sets are unordered')\n",
    "print('--' * 10)\n",
    "print('getting items from dict')\n",
    "print('Title', x4['title']) # normal way\n",
    "print('Price',x4['price'])\n",
    "print('Quantity',x4.get('qty')) # better way"
   ]
  },
  {
   "cell_type": "markdown",
   "metadata": {},
   "source": [
    "## 3. Updating elements"
   ]
  },
  {
   "cell_type": "code",
   "execution_count": null,
   "metadata": {},
   "outputs": [
    {
     "name": "stdout",
     "output_type": "stream",
     "text": [
      "changing value in list\n",
      "[100, 20, 'red', 'true', 3.145, 'yellow']\n",
      "[100, 20, 'red', 'true', 3.145, 'yellow']\n",
      "--------------------\n",
      "changing value in tuple\n",
      "⚠️we cannot ,as tuples are immutable\n",
      "--------------------\n",
      "changing value in set\n",
      "⚠️we cannot ,as sets are unordered\n",
      "--------------------\n",
      "changing values in dict\n",
      "{'title': 'samosa burger', 'price': '10', 'qty': '5'}\n",
      "{'title': 'samosa burger', 'price': 50, 'qty': '5'}\n"
     ]
    }
   ],
   "source": [
    "print('changing value in list')\n",
    "x1[0] =100\n",
    "print(x1)\n",
    "x1[-1] = 'yellow'\n",
    "print(x1) \n",
    "print('--' * 10)\n",
    "print('changing value in tuple')\n",
    "print('⚠️we cannot ,as tuples are immutable')\n",
    "print('--'*10)\n",
    "print('changing value in set')\n",
    "print('⚠️we cannot ,as sets are unordered')\n",
    "print('--'*10)\n",
    "print('changing values in dict')\n",
    "x4['title'] = 'samosa burger'\n",
    "print (x4)\n",
    "x4['price'] = 50\n",
    "print(x4)\n"
   ]
  },
  {
   "cell_type": "markdown",
   "metadata": {},
   "source": []
  },
  {
   "cell_type": "markdown",
   "metadata": {},
   "source": []
  },
  {
   "cell_type": "markdown",
   "metadata": {},
   "source": [
    "## 4. adding"
   ]
  },
  {
   "cell_type": "code",
   "execution_count": null,
   "metadata": {},
   "outputs": [
    {
     "name": "stdout",
     "output_type": "stream",
     "text": [
      "[1, 2, 3, 10]\n",
      "[1, 100, 2, 3, 10]\n"
     ]
    }
   ],
   "source": [
    "# list\n",
    "x=[1,2,3]\n",
    "x.append(10) #for adding\n",
    "print(x)\n",
    "#[1,2,,3,4]\n",
    "x.insert(1,100) #inserting\n",
    "print(x)"
   ]
  },
  {
   "cell_type": "code",
   "execution_count": null,
   "metadata": {},
   "outputs": [
    {
     "name": "stdout",
     "output_type": "stream",
     "text": [
      "{'apple', 'banana', 'cherry', 'dragonfruit'}\n"
     ]
    }
   ],
   "source": [
    "# set\n",
    "a= {'apple','banana','cherry'}\n",
    "a.add('dragonfruit')\n",
    "print(a)"
   ]
  },
  {
   "cell_type": "code",
   "execution_count": null,
   "metadata": {},
   "outputs": [
    {
     "name": "stdout",
     "output_type": "stream",
     "text": [
      "{'name': 'raju', 'school': 'cms'}\n"
     ]
    }
   ],
   "source": [
    "# dict\n",
    "b={'name':'raju'}\n",
    "b['school'] = 'cms' #adding key and value\n",
    "print(b)"
   ]
  },
  {
   "cell_type": "markdown",
   "metadata": {},
   "source": [
    "## 5 Removing elements"
   ]
  },
  {
   "cell_type": "code",
   "execution_count": null,
   "metadata": {},
   "outputs": [
    {
     "name": "stdout",
     "output_type": "stream",
     "text": [
      "[1, 100, 2, 3, 10]\n",
      "[1, 2, 3, 10]\n",
      "[2, 3, 10]\n",
      "[2, 3]\n"
     ]
    }
   ],
   "source": [
    "print(x)\n",
    "x.remove(100) # will remove the value 100 from the list\n",
    "print(x)\n",
    "x.pop(0) #will remove the value at index 0\n",
    "print(x)\n",
    "x.pop() #will remove the last value\n",
    "print(x)"
   ]
  },
  {
   "cell_type": "code",
   "execution_count": null,
   "metadata": {},
   "outputs": [
    {
     "name": "stdout",
     "output_type": "stream",
     "text": [
      "{'apple', 'banana', 'cherry', 'dragonfruit'}\n",
      "{'banana', 'cherry', 'dragonfruit'}\n",
      "{'cherry', 'dragonfruit'}\n"
     ]
    }
   ],
   "source": [
    "# set\n",
    "print(a)\n",
    "a.discard('apple') # better -> does not give error\n",
    "print(a)\n",
    "a.remove('banana')\n",
    "print(a)\n"
   ]
  },
  {
   "cell_type": "code",
   "execution_count": null,
   "metadata": {},
   "outputs": [
    {
     "name": "stdout",
     "output_type": "stream",
     "text": [
      "{'name': 'raju', 'school': 'cms'}\n",
      "{'name': 'raju'}\n"
     ]
    }
   ],
   "source": [
    "# dict\n",
    "print(b)\n",
    "b.pop('school')\n",
    "print(b)"
   ]
  },
  {
   "cell_type": "markdown",
   "metadata": {},
   "source": [
    "1. create a list of 10 movies ,each movie will be added by user\n",
    "2. create a tuple of 10 random numbers\n",
    "3. create 2 sets of flowers with 10 items each. create empty set as f1= set(),then  add data\n",
    "4. create a dictionary for storing employee data, there should be 8 key and value"
   ]
  },
  {
   "cell_type": "code",
   "execution_count": null,
   "metadata": {},
   "outputs": [
    {
     "name": "stdout",
     "output_type": "stream",
     "text": [
      "[1, 2, 10, 30, 50, 40, 15, 45, 9, 70]\n"
     ]
    }
   ],
   "source": [
    "2.\n",
    "a=[1,2,10,30,50,40,15,45,9,70]\n",
    "print(a)"
   ]
  },
  {
   "cell_type": "code",
   "execution_count": null,
   "metadata": {},
   "outputs": [
    {
     "ename": "TypeError",
     "evalue": "Kernel.raw_input() takes from 1 to 2 positional arguments but 8 were given",
     "output_type": "error",
     "traceback": [
      "\u001b[1;31m---------------------------------------------------------------------------\u001b[0m",
      "\u001b[1;31mTypeError\u001b[0m                                 Traceback (most recent call last)",
      "Cell \u001b[1;32mIn[11], line 4\u001b[0m\n\u001b[0;32m      2\u001b[0m movies\u001b[38;5;241m=\u001b[39m [\u001b[38;5;124m'\u001b[39m\u001b[38;5;124mrrr\u001b[39m\u001b[38;5;124m'\u001b[39m,\u001b[38;5;124m'\u001b[39m\u001b[38;5;124msalar\u001b[39m\u001b[38;5;124m'\u001b[39m,\u001b[38;5;124m'\u001b[39m\u001b[38;5;124mkgf\u001b[39m\u001b[38;5;124m'\u001b[39m , \u001b[38;5;124m'\u001b[39m\u001b[38;5;124mtunky\u001b[39m\u001b[38;5;124m'\u001b[39m ,\u001b[38;5;124m'\u001b[39m\u001b[38;5;124mfighter\u001b[39m\u001b[38;5;124m'\u001b[39m,\u001b[38;5;124m'\u001b[39m\u001b[38;5;124mjawan\u001b[39m\u001b[38;5;124m'\u001b[39m ,\u001b[38;5;124m'\u001b[39m\u001b[38;5;124mbhediya\u001b[39m\u001b[38;5;124m'\u001b[39m ]\n\u001b[0;32m      3\u001b[0m \u001b[38;5;28;01mfor\u001b[39;00m i \u001b[38;5;129;01min\u001b[39;00m \u001b[38;5;28mrange\u001b[39m(\u001b[38;5;241m7\u001b[39m):\n\u001b[1;32m----> 4\u001b[0m     movies\u001b[38;5;241m=\u001b[39m \u001b[38;5;28minput\u001b[39m(\u001b[38;5;124m'\u001b[39m\u001b[38;5;124mrrr\u001b[39m\u001b[38;5;124m'\u001b[39m,\u001b[38;5;124m'\u001b[39m\u001b[38;5;124msalar\u001b[39m\u001b[38;5;124m'\u001b[39m,\u001b[38;5;124m'\u001b[39m\u001b[38;5;124mkgf\u001b[39m\u001b[38;5;124m'\u001b[39m , \u001b[38;5;124m'\u001b[39m\u001b[38;5;124mtunky\u001b[39m\u001b[38;5;124m'\u001b[39m ,\u001b[38;5;124m'\u001b[39m\u001b[38;5;124mfighter\u001b[39m\u001b[38;5;124m'\u001b[39m,\u001b[38;5;124m'\u001b[39m\u001b[38;5;124mjawan\u001b[39m\u001b[38;5;124m'\u001b[39m ,\u001b[38;5;124m'\u001b[39m\u001b[38;5;124mbhediya\u001b[39m\u001b[38;5;124m'\u001b[39m)\n\u001b[0;32m      5\u001b[0m     movies\u001b[38;5;241m.\u001b[39mappend()\n",
      "\u001b[1;31mTypeError\u001b[0m: Kernel.raw_input() takes from 1 to 2 positional arguments but 8 were given"
     ]
    }
   ],
   "source": [
    "1. \n",
    "movies= ['rrr','salar','kgf' , 'tunky' ,'fighter','jawan' ,'bhediya' ]\n",
    "for i in range(7):\n",
    "    movies= input('rrr','salar','kgf' , 'tunky' ,'fighter','jawan' ,'bhediya')\n",
    "    movies.append()\n"
   ]
  },
  {
   "cell_type": "code",
   "execution_count": null,
   "metadata": {},
   "outputs": [],
   "source": [
    "movies=[]\n",
    "f"
   ]
  },
  {
   "cell_type": "code",
   "execution_count": 16,
   "metadata": {},
   "outputs": [
    {
     "name": "stdout",
     "output_type": "stream",
     "text": [
      "['rrr']\n",
      "['rrr', 'jawan']\n",
      "['rrr', 'jawan', 'salar']\n",
      "['rrr', 'jawan', 'salar', 'tunky']\n",
      "['rrr', 'jawan', 'salar', 'tunky', 'fighter']\n",
      "['rrr', 'jawan', 'salar', 'tunky', 'fighter', 'bhediya']\n",
      "['rrr', 'jawan', 'salar', 'tunky', 'fighter', 'bhediya', 'diljale']\n",
      "['rrr', 'jawan', 'salar', 'tunky', 'fighter', 'bhediya', 'diljale', 'jung']\n",
      "['rrr', 'jawan', 'salar', 'tunky', 'fighter', 'bhediya', 'diljale', 'jung', 'pathan']\n",
      "['rrr', 'jawan', 'salar', 'tunky', 'fighter', 'bhediya', 'diljale', 'jung', 'pathan', 'diwalwe']\n"
     ]
    }
   ],
   "source": [
    "movie=[]\n",
    "movie.append('rrr')\n",
    "print(movie)\n",
    "movie.append('jawan')\n",
    "print(movie)\n",
    "movie.append('salar')\n",
    "print(movie)\n",
    "movie.append('tunky')\n",
    "print(movie)\n",
    "movie.append('fighter')\n",
    "print(movie)\n",
    "movie.append('bhediya')\n",
    "print(movie)\n",
    "movie.append('diljale')\n",
    "print(movie)\n",
    "movie.append('jung')\n",
    "print(movie)\n",
    "movie.append('pathan')\n",
    "print(movie)\n",
    "movie.append('diwalwe')\n",
    "print(movie)"
   ]
  },
  {
   "cell_type": "code",
   "execution_count": 17,
   "metadata": {},
   "outputs": [
    {
     "name": "stdout",
     "output_type": "stream",
     "text": [
      "{'Peony', 'Hibiscus', 'Tulip', 'Daffodil', 'Orchid', 'worng_turn', 'Daisy', 'Carnation', 'Lily', 'Sunflower'}\n",
      "{'Hydrangea', 'Dahlia', 'Bougainvillea', 'Iris', 'Lavender', 'Marigold', 'Chrysanthemum', 'Poppy', 'Pansy', 'Gerbera'}\n",
      "{'Peony', 'Hibiscus', 'Tulip', 'Daffodil', 'Orchid', 'worng_turn', 'Daisy', 'Carnation', 'Lily', 'Sunflower'}\n"
     ]
    }
   ],
   "source": [
    "flowers_set1 = {\"worng_turn\", \"Lily\", \"Tulip\", \"Daisy\", \"Sunflower\", \"Orchid\", \"Carnation\", \"Daffodil\", \"Hibiscus\", \"Peony\"}\n",
    "flowers_set2 = {\"Lavender\", \"Chrysanthemum\", \"Gerbera\", \"Poppy\", \"Marigold\", \"Dahlia\", \"Iris\", \"Hydrangea\", \"Pansy\", \"Bougainvillea\"}\n",
    "f1 = set()\n",
    "f1.update(flowers_set1)\n",
    "print(flowers_set1)\n",
    "print(flowers_set2)\n",
    "print(f1)"
   ]
  },
  {
   "cell_type": "code",
   "execution_count": 1,
   "metadata": {},
   "outputs": [
    {
     "name": "stdout",
     "output_type": "stream",
     "text": [
      "{'sunflower', 'lotus', 'daheliya', 'lily', 'tulip', 'iris', 'daisy', 'rose', 'lavender', 'marry gold'}\n",
      "{'sunflower', 'lotus', 'daheliya', 'lily', 'tulip', 'iris', 'daisy', 'rose', 'lavender', 'marry gold'}\n"
     ]
    }
   ],
   "source": [
    "f1= set()\n",
    "f1.add('lotus')\n",
    "f1.add('lily')\n",
    "f1.add('iris')\n",
    "f1.add('marry gold')\n",
    "f1.add('rose')\n",
    "f1.add('tulip')\n",
    "f1.add('sunflower')\n",
    "f1.add('daisy')\n",
    "f1.add('lavender')\n",
    "f1.add('daheliya')\n",
    "f2 = set()\n",
    "f2.add('lotus')\n",
    "f2.add('lily')\n",
    "f2.add('iris')\n",
    "f2.add('marry gold')\n",
    "f2.add('rose')\n",
    "f2.add('tulip')\n",
    "f2.add('sunflower')\n",
    "f2.add('daisy')\n",
    "f2.add('lavender')\n",
    "f2.add('daheliya')\n",
    "print(f1)\n",
    "print(f2)\n",
    "\n",
    "\n",
    "\n"
   ]
  },
  {
   "cell_type": "markdown",
   "metadata": {},
   "source": [
    "## 5.searchimg in a list tuple set"
   ]
  },
  {
   "cell_type": "code",
   "execution_count": 6,
   "metadata": {},
   "outputs": [
    {
     "name": "stdout",
     "output_type": "stream",
     "text": [
      "3 not found\n",
      "3 not found\n"
     ]
    }
   ],
   "source": [
    "x=[12,15,20,7,22,1,34]\n",
    "s= 3\n",
    "#basic searching commom in list, tuple,set\n",
    "for i in x:\n",
    "    if i==s:\n",
    "        print(f'found {s}')\n",
    "        break\n",
    "else:\n",
    "    print(f'{s} not found')\n",
    "\n",
    "# better searching in list ,tuple , set\n",
    "if s in x:\n",
    "    print(f'found {s}')\n",
    "else:\n",
    "    print(f'{s} not found')"
   ]
  },
  {
   "cell_type": "markdown",
   "metadata": {},
   "source": [
    "## 6. searching in dict"
   ]
  },
  {
   "cell_type": "code",
   "execution_count": 9,
   "metadata": {},
   "outputs": [
    {
     "name": "stdout",
     "output_type": "stream",
     "text": [
      "chaman\n",
      "12 exists\n"
     ]
    }
   ],
   "source": [
    "std = {'name':'chaman','age':12,'class':7,'school':'cms'}\n",
    "#searching if key exists in dict\n",
    "if 'name' in std:\n",
    "    print(std['name'])\n",
    "else:\n",
    "    print('not found')\n",
    "\n",
    "## searching if value exists in dict\n",
    "if 12 in std.values():  ## .value() return a list of all values\n",
    "    print('12 exists')\n",
    "else:\n",
    "    print('12 not found')"
   ]
  },
  {
   "cell_type": "markdown",
   "metadata": {},
   "source": [
    "## 7. sorting in list\n",
    "-note: sorting is not possible in 'tupple' as it is 'immutable'     \n",
    "-note: sorting  is not possiible in set as it is immutable\n",
    "-note: sorting is done in list using sort() method or sorted()function\n",
    "-note: sorting is possible but with lambda function in dict\n"
   ]
  },
  {
   "cell_type": "code",
   "execution_count": 16,
   "metadata": {},
   "outputs": [
    {
     "name": "stdout",
     "output_type": "stream",
     "text": [
      "[45, 12, 14, 15, 1, 2, 3, 4]\n",
      "temporary sorting\n",
      "[1, 2, 3, 4, 12, 14, 15, 45]\n",
      "[45, 12, 14, 15, 1, 2, 3, 4]\n",
      "permanent sorting\n",
      "[1, 2, 3, 4, 12, 14, 15, 45]\n",
      "[45, 15, 14, 12, 4, 3, 2, 1]\n"
     ]
    }
   ],
   "source": [
    "x=[45,12,14,15,1,2,3,4] \n",
    "print(x)\n",
    "#temporary sorting\n",
    "print('temporary sorting')\n",
    "print(sorted(x)) # used less\n",
    "print(x)\n",
    "# PERMANENT SORTING\n",
    "print('permanent sorting')\n",
    "x.sort() # used more\n",
    "print(x)\n",
    "x.sort(reverse = True)\n",
    "print(x)"
   ]
  },
  {
   "cell_type": "code",
   "execution_count": 11,
   "metadata": {},
   "outputs": [
    {
     "name": "stdout",
     "output_type": "stream",
     "text": [
      "{'name': 'chaman', 'age': 12, 'class': 7, 'school': 'cms'}\n",
      "['age', 'class', 'name', 'school']\n"
     ]
    }
   ],
   "source": [
    "print(std)\n",
    "# sorting with keys\n",
    "print(sorted(std)) # give a list of keys"
   ]
  },
  {
   "cell_type": "code",
   "execution_count": 17,
   "metadata": {},
   "outputs": [
    {
     "name": "stdout",
     "output_type": "stream",
     "text": [
      "{'banana': 50, 'apple': 100, 'kiwi': 150, 'cherry': 200, 'dragonfruit': 500}\n",
      "{'dragonfruit': 500, 'cherry': 200, 'kiwi': 150, 'apple': 100, 'banana': 50}\n"
     ]
    }
   ],
   "source": [
    "prices= {'apple': 100, 'banana': 50,'cherry':200,'kiwi':150,'dragonfruit':500}\n",
    "#sorting dict based on values\n",
    "result= sorted(prices.items(), key= lambda item: item[1])\n",
    "print(dict(result))\n",
    "# reverse sorting \n",
    "result= sorted(prices.items(), key= lambda item: item[1] , reverse=True)\n",
    "print(dict(result))\n"
   ]
  },
  {
   "cell_type": "code",
   "execution_count": 20,
   "metadata": {},
   "outputs": [
    {
     "data": {
      "text/plain": [
       "dict_keys(['apple', 'banana', 'cherry', 'kiwi', 'dragonfruit'])"
      ]
     },
     "execution_count": 20,
     "metadata": {},
     "output_type": "execute_result"
    }
   ],
   "source": [
    "prices.keys()"
   ]
  },
  {
   "cell_type": "code",
   "execution_count": null,
   "metadata": {},
   "outputs": [],
   "source": []
  }
 ],
 "metadata": {
  "kernelspec": {
   "display_name": "base",
   "language": "python",
   "name": "python3"
  },
  "language_info": {
   "codemirror_mode": {
    "name": "ipython",
    "version": 3
   },
   "file_extension": ".py",
   "mimetype": "text/x-python",
   "name": "python",
   "nbconvert_exporter": "python",
   "pygments_lexer": "ipython3",
   "version": "3.11.5"
  }
 },
 "nbformat": 4,
 "nbformat_minor": 2
}
