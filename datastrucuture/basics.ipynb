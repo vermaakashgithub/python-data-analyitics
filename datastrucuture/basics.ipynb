{
 "cells": [
  {
   "cell_type": "markdown",
   "metadata": {},
   "source": [
    "### data structure\n"
   ]
  },
  {
   "cell_type": "markdown",
   "metadata": {},
   "source": [
    "-list\n",
    "  -\n",
    "  "
   ]
  },
  {
   "cell_type": "markdown",
   "metadata": {},
   "source": [
    "## 1. Creation"
   ]
  },
  {
   "cell_type": "code",
   "execution_count": 1,
   "metadata": {},
   "outputs": [
    {
     "name": "stdout",
     "output_type": "stream",
     "text": [
      "[10, 20, 'red', 'true', 3.145, 10] <class 'list'>\n",
      "(1, 2, 3, 4, 5, 'apple', 2) <class 'tuple'>\n",
      "{1, 2, 3, 4, 5} <class 'set'>\n",
      "{'title': 'samosa', 'price': '10', 'qty': '5'} <class 'dict'>\n"
     ]
    }
   ],
   "source": [
    "x1= [10,20,'red','true',3.145, 10]\n",
    "print(x1, type(x1))\n",
    "x2= (1,2,3,4,5,'apple',2)\n",
    "print(x2,type(x2))\n",
    "x3= {1,2,3,4,5,2}\n",
    "print(x3,type(x3))\n",
    "x4= {'title':'samosa','price':'10', 'qty':'5'}\n",
    "print(x4,type(x4))"
   ]
  },
  {
   "cell_type": "markdown",
   "metadata": {},
   "source": [
    "## 2.Accessing elements"
   ]
  },
  {
   "cell_type": "code",
   "execution_count": 18,
   "metadata": {},
   "outputs": [
    {
     "name": "stdout",
     "output_type": "stream",
     "text": [
      "getting items from list\n",
      "first element: 10\n",
      "second element: 20\n",
      "third element: red\n",
      "last element: 10\n",
      "--------------------\n",
      "getting items from tuple\n",
      "first element: 1\n",
      "second element: 2\n",
      "third element: 3\n",
      "last element: 2\n",
      "--------------------\n",
      "getting items from set\n",
      "⚠️ we cannot, as sets are unordered\n",
      "--------------------\n",
      "getting items from dict\n",
      "Title samosa\n",
      "Price 10\n",
      "Quantity 5\n"
     ]
    }
   ],
   "source": [
    "print('getting items from list')\n",
    "print('first element:', x1[0])\n",
    "print('second element:',x1[1])\n",
    "print('third element:',x1[2])\n",
    "print('last element:',x1[-1])\n",
    "print('--' * 10)\n",
    "print('getting items from tuple')\n",
    "print('first element:', x2[0])\n",
    "print('second element:',x2[1])\n",
    "print('third element:',x2[2])\n",
    "print('last element:',x2[-1])\n",
    "print('--' * 10)\n",
    "print('getting items from set')\n",
    "print('⚠️ we cannot, as sets are unordered')\n",
    "print('--' * 10)\n",
    "print('getting items from dict')\n",
    "print('Title', x4['title']) # normal way\n",
    "print('Price',x4['price'])\n",
    "print('Quantity',x4.get('qty')) # better way"
   ]
  },
  {
   "cell_type": "markdown",
   "metadata": {},
   "source": [
    "## 3. Updating elements"
   ]
  },
  {
   "cell_type": "code",
   "execution_count": 22,
   "metadata": {},
   "outputs": [
    {
     "name": "stdout",
     "output_type": "stream",
     "text": [
      "changing value in list\n",
      "[100, 20, 'red', 'true', 3.145, 'yellow']\n",
      "[100, 20, 'red', 'true', 3.145, 'yellow']\n",
      "--------------------\n",
      "changing value in tuple\n",
      "⚠️we cannot ,as tuples are immutable\n",
      "--------------------\n",
      "changing value in set\n",
      "⚠️we cannot ,as sets are unordered\n",
      "--------------------\n",
      "changing values in dict\n",
      "{'title': 'samosa burger', 'price': '10', 'qty': '5'}\n",
      "{'title': 'samosa burger', 'price': 50, 'qty': '5'}\n"
     ]
    }
   ],
   "source": [
    "print('changing value in list')\n",
    "x1[0] =100\n",
    "print(x1)\n",
    "x1[-1] = 'yellow'\n",
    "print(x1) \n",
    "print('--' * 10)\n",
    "print('changing value in tuple')\n",
    "print('⚠️we cannot ,as tuples are immutable')\n",
    "print('--'*10)\n",
    "print('changing value in set')\n",
    "print('⚠️we cannot ,as sets are unordered')\n",
    "print('--'*10)\n",
    "print('changing values in dict')\n",
    "x4['title'] = 'samosa burger'\n",
    "print (x4)\n",
    "x4['price'] = 50\n",
    "print(x4)\n"
   ]
  },
  {
   "cell_type": "markdown",
   "metadata": {},
   "source": []
  },
  {
   "cell_type": "markdown",
   "metadata": {},
   "source": []
  },
  {
   "cell_type": "markdown",
   "metadata": {},
   "source": []
  }
 ],
 "metadata": {
  "kernelspec": {
   "display_name": "base",
   "language": "python",
   "name": "python3"
  },
  "language_info": {
   "codemirror_mode": {
    "name": "ipython",
    "version": 3
   },
   "file_extension": ".py",
   "mimetype": "text/x-python",
   "name": "python",
   "nbconvert_exporter": "python",
   "pygments_lexer": "ipython3",
   "version": "3.11.5"
  }
 },
 "nbformat": 4,
 "nbformat_minor": 2
}
