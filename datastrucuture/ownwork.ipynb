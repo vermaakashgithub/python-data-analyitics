{
 "cells": [
  {
   "cell_type": "markdown",
   "metadata": {},
   "source": [
    "## own work"
   ]
  },
  {
   "cell_type": "code",
   "execution_count": 2,
   "metadata": {},
   "outputs": [],
   "source": [
    "def milk_and_toast(milk_count, packet_of_toast):\n",
    "    print(f\"you have{milk_count} milk!\")\n",
    "    print(f\"you have{packet_of_toast} packet of milk\")\n",
    "    print(\"boy that's enough fo you\")\n",
    "    print(\"get a blanket.\\n\")    "
   ]
  },
  {
   "cell_type": "code",
   "execution_count": 6,
   "metadata": {},
   "outputs": [
    {
     "name": "stdout",
     "output_type": "stream",
     "text": [
      "we can give the function number directly:\n",
      "you have50 milk!\n",
      "you have40 packet of milk\n",
      "boy that's enough fo you\n",
      "get a blanket.\n",
      "\n"
     ]
    }
   ],
   "source": [
    "print('we can give the function number directly:')\n",
    "milk_and_toast (50,40)"
   ]
  },
  {
   "cell_type": "code",
   "execution_count": 8,
   "metadata": {},
   "outputs": [
    {
     "name": "stdout",
     "output_type": "stream",
     "text": [
      "OR,we can use variables for our scrpit:\n",
      "you have50 milk!\n",
      "you have40 packet of milk\n",
      "boy that's enough fo you\n",
      "get a blanket.\n",
      "\n"
     ]
    }
   ],
   "source": [
    "print(\"OR,we can use variables for our scrpit:\")\n",
    "amount_of_milk =  50\n",
    "amount_of_toast = 40\n",
    "milk_and_toast(amount_of_milk,amount_of_toast)"
   ]
  },
  {
   "cell_type": "code",
   "execution_count": 9,
   "metadata": {},
   "outputs": [
    {
     "name": "stdout",
     "output_type": "stream",
     "text": [
      "we can even do math inside too:\n",
      "you have20 milk!\n",
      "you have15 packet of milk\n",
      "boy that's enough fo you\n",
      "get a blanket.\n",
      "\n"
     ]
    }
   ],
   "source": [
    "print(\"we can even do math inside too:\")\n",
    "milk_and_toast(12+8, 10+5)"
   ]
  },
  {
   "cell_type": "code",
   "execution_count": 10,
   "metadata": {},
   "outputs": [
    {
     "name": "stdout",
     "output_type": "stream",
     "text": [
      "and we can combine the two ,variables and math:\n",
      "you have250 milk!\n",
      "you have540 packet of milk\n",
      "boy that's enough fo you\n",
      "get a blanket.\n",
      "\n"
     ]
    }
   ],
   "source": [
    "print(\"and we can combine the two ,variables and math:\")\n",
    "milk_and_toast(amount_of_milk+200,amount_of_toast+500)"
   ]
  },
  {
   "cell_type": "code",
   "execution_count": null,
   "metadata": {},
   "outputs": [],
   "source": []
  }
 ],
 "metadata": {
  "kernelspec": {
   "display_name": "base",
   "language": "python",
   "name": "python3"
  },
  "language_info": {
   "codemirror_mode": {
    "name": "ipython",
    "version": 3
   },
   "file_extension": ".py",
   "mimetype": "text/x-python",
   "name": "python",
   "nbconvert_exporter": "python",
   "pygments_lexer": "ipython3",
   "version": "3.11.5"
  }
 },
 "nbformat": 4,
 "nbformat_minor": 2
}
