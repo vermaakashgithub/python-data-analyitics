{
 "cells": [
  {
   "cell_type": "code",
   "execution_count": 8,
   "metadata": {},
   "outputs": [
    {
     "name": "stdout",
     "output_type": "stream",
     "text": [
      "517699\n"
     ]
    }
   ],
   "source": [
    "file =r'C:\\Users\\AMAN VERMA\\Downloads\\pg72670.txt'\n",
    "with open (file, errors= 'ignore') as f:\n",
    "    content = f.read()\n",
    "print(len(content))"
   ]
  },
  {
   "cell_type": "markdown",
   "metadata": {},
   "source": [
    "## test question "
   ]
  },
  {
   "cell_type": "code",
   "execution_count": 21,
   "metadata": {},
   "outputs": [
    {
     "name": "stdout",
     "output_type": "stream",
     "text": [
      "total words: 1\n",
      "total words: 7\n",
      "average word length: 7.0\n"
     ]
    }
   ],
   "source": [
    "msg = ('content')\n",
    "print('total words:', len(msg.split()))\n",
    "word_count = 0\n",
    "for word in msg.split():\n",
    "    word_count += len(word)\n",
    "print('total words:', word_count)\n",
    "print('average word length:', word_count/len(msg.split()))\n"
   ]
  },
  {
   "cell_type": "code",
   "execution_count": null,
   "metadata": {},
   "outputs": [],
   "source": []
  },
  {
   "cell_type": "code",
   "execution_count": null,
   "metadata": {},
   "outputs": [],
   "source": []
  }
 ],
 "metadata": {
  "kernelspec": {
   "display_name": "base",
   "language": "python",
   "name": "python3"
  },
  "language_info": {
   "codemirror_mode": {
    "name": "ipython",
    "version": 3
   },
   "file_extension": ".py",
   "mimetype": "text/x-python",
   "name": "python",
   "nbconvert_exporter": "python",
   "pygments_lexer": "ipython3",
   "version": "3.11.5"
  }
 },
 "nbformat": 4,
 "nbformat_minor": 2
}
