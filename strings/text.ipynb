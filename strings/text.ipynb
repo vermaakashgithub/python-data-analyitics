{
 "cells": [
  {
   "cell_type": "code",
   "execution_count": 8,
   "metadata": {},
   "outputs": [
    {
     "name": "stdout",
     "output_type": "stream",
     "text": [
      "517699\n"
     ]
    }
   ],
   "source": [
    "file =r'C:\\Users\\AMAN VERMA\\Downloads\\pg72670.txt'\n",
    "with open (file, errors= 'ignore') as f:\n",
    "    content = f.read()\n",
    "print(len(content))"
   ]
  },
  {
   "cell_type": "markdown",
   "metadata": {},
   "source": [
    "## test question "
   ]
  },
  {
   "cell_type": "code",
   "execution_count": 3,
   "metadata": {},
   "outputs": [
    {
     "name": "stdout",
     "output_type": "stream",
     "text": [
      "total words: 2\n",
      "total words: 40\n"
     ]
    }
   ],
   "source": [
    "file =r'C:\\Users\\AMAN VERMA\\Downloads\\pg72670.txt'\n",
    "print('total words:', len(file.split()))\n",
    "word_count = 0\n",
    "for word in file.split():\n",
    "    word_count += len(word)\n",
    "print('total words:', word_count)\n"
   ]
  },
  {
   "cell_type": "code",
   "execution_count": null,
   "metadata": {},
   "outputs": [],
   "source": [
    "file =r'C:\\Users\\AMAN VERMA\\Downloads\\pg72670.txt'\n",
    "print('total vowels:', len(file.split()))\n",
    "word_count= 0 \n",
    "for ch in file:\n",
    "    if ch is vowels:\n",
    "        count += 1\n",
    "    return count\n"
   ]
  },
  {
   "cell_type": "code",
   "execution_count": 7,
   "metadata": {},
   "outputs": [
    {
     "ename": "SyntaxError",
     "evalue": "(unicode error) 'unicodeescape' codec can't decode bytes in position 2-3: truncated \\UXXXXXXXX escape (2988741636.py, line 1)",
     "output_type": "error",
     "traceback": [
      "\u001b[1;36m  Cell \u001b[1;32mIn[7], line 1\u001b[1;36m\u001b[0m\n\u001b[1;33m    file ='C:\\Users\\AMAN VERMA\\Downloads\\pg72670.txt'\u001b[0m\n\u001b[1;37m                                                     ^\u001b[0m\n\u001b[1;31mSyntaxError\u001b[0m\u001b[1;31m:\u001b[0m (unicode error) 'unicodeescape' codec can't decode bytes in position 2-3: truncated \\UXXXXXXXX escape\n"
     ]
    }
   ],
   "source": [
    "file ='C:\\Users\\AMAN VERMA\\Downloads\\pg72670.txt'\n",
    "from string import punctuation,digits\n",
    "for file in punctuation + digits:\n",
    "    file = file.replace(file,\"\")\n",
    "print(file)"
   ]
  },
  {
   "cell_type": "code",
   "execution_count": null,
   "metadata": {},
   "outputs": [],
   "source": []
  }
 ],
 "metadata": {
  "kernelspec": {
   "display_name": "base",
   "language": "python",
   "name": "python3"
  },
  "language_info": {
   "codemirror_mode": {
    "name": "ipython",
    "version": 3
   },
   "file_extension": ".py",
   "mimetype": "text/x-python",
   "name": "python",
   "nbconvert_exporter": "python",
   "pygments_lexer": "ipython3",
   "version": "3.11.5"
  }
 },
 "nbformat": 4,
 "nbformat_minor": 2
}
