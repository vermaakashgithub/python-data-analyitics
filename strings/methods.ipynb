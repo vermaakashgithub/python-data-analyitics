{
 "cells": [
  {
   "cell_type": "code",
   "execution_count": 1,
   "metadata": {},
   "outputs": [
    {
     "name": "stdout",
     "output_type": "stream",
     "text": [
      "suffer\n"
     ]
    }
   ],
   "source": [
    "a= 'suffer'\n",
    "print(a)"
   ]
  },
  {
   "cell_type": "code",
   "execution_count": 4,
   "metadata": {},
   "outputs": [
    {
     "data": {
      "text/plain": [
       "5"
      ]
     },
     "execution_count": 4,
     "metadata": {},
     "output_type": "execute_result"
    }
   ],
   "source": [
    "len(input())"
   ]
  },
  {
   "cell_type": "code",
   "execution_count": 9,
   "metadata": {},
   "outputs": [
    {
     "data": {
      "text/plain": [
       "'great'"
      ]
     },
     "execution_count": 9,
     "metadata": {},
     "output_type": "execute_result"
    }
   ],
   "source": [
    "sentence= 'python is great'\n",
    "sentence.split()[-1]\n"
   ]
  },
  {
   "cell_type": "code",
   "execution_count": 14,
   "metadata": {},
   "outputs": [
    {
     "name": "stdout",
     "output_type": "stream",
     "text": [
      "python\n",
      "is\n",
      "great\n"
     ]
    }
   ],
   "source": [
    "s= 'python is everywhere'\n",
    "for word in sentence.split():\n",
    "    print(word)\n",
    "    "
   ]
  },
  {
   "cell_type": "code",
   "execution_count": 20,
   "metadata": {},
   "outputs": [
    {
     "name": "stdout",
     "output_type": "stream",
     "text": [
      "How are you\n",
      "HOW ARE YOU\n",
      "how are you\n",
      "How Are You\n",
      "HOW ARE YOU\n",
      "how are you\n"
     ]
    }
   ],
   "source": [
    "m = 'how are you'\n",
    "print(m.capitalize())\n",
    "print(m.upper())\n",
    "print(m.lower())\n",
    "print(m.title())\n",
    "print(m.swapcase())\n",
    "print(m)\n",
    "m=m.upper() #updation"
   ]
  },
  {
   "cell_type": "code",
   "execution_count": 22,
   "metadata": {},
   "outputs": [
    {
     "data": {
      "text/plain": [
       "'how is it going'"
      ]
     },
     "execution_count": 22,
     "metadata": {},
     "output_type": "execute_result"
    }
   ],
   "source": [
    "m= 'HOW IS IT GOING'\n",
    "m.lower()"
   ]
  },
  {
   "cell_type": "code",
   "execution_count": 25,
   "metadata": {},
   "outputs": [
    {
     "name": "stdout",
     "output_type": "stream",
     "text": [
      "python is easy to learn\n"
     ]
    }
   ],
   "source": [
    "#imp\n",
    "words = ['python','is','easy','to','learn'] \n",
    "sentence=' '.join(words)\n",
    "print(sentence)"
   ]
  },
  {
   "cell_type": "code",
   "execution_count": 26,
   "metadata": {},
   "outputs": [
    {
     "name": "stdout",
     "output_type": "stream",
     "text": [
      "this is a story,\n",
      "where we are learning python,\n",
      "and you are just watching\n"
     ]
    }
   ],
   "source": [
    "print('''this is a story,\n",
    "where we are learning python,\n",
    "and you are just watching''')"
   ]
  },
  {
   "cell_type": "code",
   "execution_count": 27,
   "metadata": {},
   "outputs": [
    {
     "name": "stdout",
     "output_type": "stream",
     "text": [
      "to move to newline'\\n' is used\n"
     ]
    }
   ],
   "source": [
    "s = \"to move to newline'\\\\n' is used\"\n",
    "print(s)"
   ]
  },
  {
   "cell_type": "code",
   "execution_count": 29,
   "metadata": {},
   "outputs": [
    {
     "name": "stdout",
     "output_type": "stream",
     "text": [
      "to move to newline'\\n' is to used\n"
     ]
    }
   ],
   "source": [
    "s =r\"to move to newline'\\n' is to used\"#r-> raw string\n",
    "print(s)"
   ]
  },
  {
   "cell_type": "code",
   "execution_count": 31,
   "metadata": {},
   "outputs": [
    {
     "name": "stdout",
     "output_type": "stream",
     "text": [
      "the varaible is 15\n"
     ]
    }
   ],
   "source": [
    "a= 15\n",
    "print(f'the varaible is {15}')"
   ]
  },
  {
   "cell_type": "code",
   "execution_count": 35,
   "metadata": {},
   "outputs": [
    {
     "name": "stdout",
     "output_type": "stream",
     "text": [
      "python is  great \n"
     ]
    }
   ],
   "source": [
    "s1= 'python '\n",
    "s2= 'is '\n",
    "s3= ' great '\n",
    "print(s1 + s2 + s3)"
   ]
  },
  {
   "cell_type": "code",
   "execution_count": 36,
   "metadata": {},
   "outputs": [
    {
     "name": "stdout",
     "output_type": "stream",
     "text": [
      "1.\n",
      "2.\n",
      "3.\n",
      "4.\n",
      "5.\n",
      "6.\n",
      "7.\n",
      "8.\n",
      "9.\n"
     ]
    }
   ],
   "source": [
    "\n",
    "for i in range(1,10):\n",
    "    print(f'{i}.') # or print(str(i)+\".\")"
   ]
  },
  {
   "cell_type": "code",
   "execution_count": 1,
   "metadata": {},
   "outputs": [
    {
     "name": "stdout",
     "output_type": "stream",
     "text": [
      "!sdrrow olleH\n"
     ]
    }
   ],
   "source": [
    "print('Hello worrds!'[::-1])\n"
   ]
  },
  {
   "cell_type": "code",
   "execution_count": 2,
   "metadata": {},
   "outputs": [
    {
     "name": "stdout",
     "output_type": "stream",
     "text": [
      "6\n",
      "p\n",
      "y\n",
      "t\n",
      "h\n",
      "o\n",
      "n\n"
     ]
    }
   ],
   "source": [
    "a= 'python'\n",
    "print(len(a))\n",
    "print(a[0])\n",
    "print(a[1])\n",
    "print(a[2])\n",
    "print(a[3])\n",
    "print(a[4])\n",
    "print(a[5])\n",
    "\n"
   ]
  },
  {
   "cell_type": "markdown",
   "metadata": {},
   "source": [
    "Remove the extra spaces in beginning and in the end of the following string-\n",
    "text = '   this is not a good string           '"
   ]
  },
  {
   "cell_type": "code",
   "execution_count": 6,
   "metadata": {},
   "outputs": [
    {
     "name": "stdout",
     "output_type": "stream",
     "text": [
      "python is great\n"
     ]
    }
   ],
   "source": [
    "s= 'python is great'\n",
    "print(s.lower())"
   ]
  },
  {
   "cell_type": "code",
   "execution_count": 1,
   "metadata": {},
   "outputs": [
    {
     "name": "stdout",
     "output_type": "stream",
     "text": [
      "once upon a time, there was a king. and the king was old, there was no time for the king\n"
     ]
    }
   ],
   "source": [
    "msg= 'once upon a time, there was a king. and the king was old, there was no time for the king'\n",
    "print(msg)"
   ]
  },
  {
   "cell_type": "code",
   "execution_count": 5,
   "metadata": {},
   "outputs": [
    {
     "name": "stdout",
     "output_type": "stream",
     "text": [
      "time was found at12\n",
      "time was found at 71\n",
      "time was found at -1\n"
     ]
    }
   ],
   "source": [
    "idx=msg.find('time')\n",
    "print(f'time was found at{idx}')\n",
    "idx2= msg.find('time', idx+1)\n",
    "print(f'time was found at {idx2}')\n",
    "idx3= msg.find('time', idx2+1)\n",
    "print(f'time was found at {idx3}')"
   ]
  },
  {
   "cell_type": "code",
   "execution_count": 11,
   "metadata": {},
   "outputs": [
    {
     "name": "stdout",
     "output_type": "stream",
     "text": [
      "once upon a time, there was a queen. and the queen was old, there was no time for the queen\n",
      "once upon a time, there were a king. and the king were old, there were no time for the king\n"
     ]
    }
   ],
   "source": [
    "print(msg.replace('king','queen'))\n",
    "print(msg.replace('was','were'))"
   ]
  },
  {
   "cell_type": "code",
   "execution_count": 13,
   "metadata": {},
   "outputs": [
    {
     "name": "stdout",
     "output_type": "stream",
     "text": [
      "once upon a year, there was a king. and the king was young, there was no time for the king\n"
     ]
    }
   ],
   "source": [
    "msg2=msg.replace('time','year',1).replace('old','young')\n",
    "print(msg2)"
   ]
  },
  {
   "cell_type": "code",
   "execution_count": 19,
   "metadata": {},
   "outputs": [
    {
     "name": "stdout",
     "output_type": "stream",
     "text": [
      "21\n",
      "apple and bananas 17\n"
     ]
    }
   ],
   "source": [
    "dirty_data= '   apple and bananas '\n",
    "print(len(dirty_data))\n",
    "clean_data= dirty_data.strip()\n",
    "print(clean_data, len(clean_data))"
   ]
  },
  {
   "cell_type": "code",
   "execution_count": 25,
   "metadata": {},
   "outputs": [
    {
     "name": "stdout",
     "output_type": "stream",
     "text": [
      "csv file\n"
     ]
    }
   ],
   "source": [
    "file= 'data.csv'\n",
    "if file.endswith('.txt'):\n",
    "    print('text file')\n",
    "if file.endswith( '.csv'):\n",
    "    print('csv file')\n"
   ]
  },
  {
   "cell_type": "code",
   "execution_count": 35,
   "metadata": {},
   "outputs": [
    {
     "name": "stdout",
     "output_type": "stream",
     "text": [
      "Aman Verma BEE Lat 10th.jpg\n",
      "Aman Verma BEE Lat 12th.jpg\n",
      "Aman Verma BEE Lat Caste Certificate (1).jpg\n",
      "Aman Verma BEE Lat Caste Certificate.jpg\n",
      "Aman Verma BEE Lat Caste Certificate_page-0001.jpg\n",
      "Aman Verma BEE Lat domocile Certificate.jpg\n",
      "atul-removebg-preview.jpg\n",
      "Domicile_page-0001.jpg\n"
     ]
    }
   ],
   "source": [
    "import os\n",
    "content= os.listdir(r'c:/users/AMAN VERMA/downloads')\n",
    "for file in content:\n",
    "    if file.endswith('jpg'):\n",
    "        print(file)"
   ]
  },
  {
   "cell_type": "code",
   "execution_count": 36,
   "metadata": {},
   "outputs": [
    {
     "data": {
      "text/plain": [
       "6"
      ]
     },
     "execution_count": 36,
     "metadata": {},
     "output_type": "execute_result"
    }
   ],
   "source": [
    "msg.count('a')"
   ]
  },
  {
   "cell_type": "code",
   "execution_count": 37,
   "metadata": {},
   "outputs": [
    {
     "data": {
      "text/plain": [
       "2"
      ]
     },
     "execution_count": 37,
     "metadata": {},
     "output_type": "execute_result"
    }
   ],
   "source": [
    "msg.count('time')"
   ]
  },
  {
   "cell_type": "code",
   "execution_count": null,
   "metadata": {},
   "outputs": [],
   "source": []
  }
 ],
 "metadata": {
  "kernelspec": {
   "display_name": "base",
   "language": "python",
   "name": "python3"
  },
  "language_info": {
   "codemirror_mode": {
    "name": "ipython",
    "version": 3
   },
   "file_extension": ".py",
   "mimetype": "text/x-python",
   "name": "python",
   "nbconvert_exporter": "python",
   "pygments_lexer": "ipython3",
   "version": "3.11.5"
  }
 },
 "nbformat": 4,
 "nbformat_minor": 2
}
