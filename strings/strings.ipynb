{
 "cells": [
  {
   "cell_type": "markdown",
   "metadata": {},
   "source": []
  },
  {
   "cell_type": "markdown",
   "metadata": {},
   "source": [
    "## string"
   ]
  },
  {
   "cell_type": "code",
   "execution_count": 3,
   "metadata": {},
   "outputs": [
    {
     "name": "stdout",
     "output_type": "stream",
     "text": [
      "apple\n",
      "banana\n",
      "chocolate and vanilla\n"
     ]
    }
   ],
   "source": [
    "a= 'apple'\n",
    "b= \"banana\"\n",
    "c=\"\"\"chocolate and vanilla\"\"\"\n",
    "print(a)\n",
    "print(b)\n",
    "print(c)"
   ]
  },
  {
   "cell_type": "code",
   "execution_count": 9,
   "metadata": {},
   "outputs": [
    {
     "name": "stdout",
     "output_type": "stream",
     "text": [
      "Alex😍 Alex😍 Alex😍 Alex😍 Alex😍 \n"
     ]
    }
   ],
   "source": [
    "d=1.234\n",
    "d= str(d) #convert to string(casting)\n",
    "# string duplication\n",
    "e= 'Alex😍 ' * 5\n",
    "print(e)"
   ]
  },
  {
   "cell_type": "code",
   "execution_count": 8,
   "metadata": {},
   "outputs": [
    {
     "data": {
      "text/plain": [
       "'hello'"
      ]
     },
     "execution_count": 8,
     "metadata": {},
     "output_type": "execute_result"
    }
   ],
   "source": [
    "# string concatenation\n",
    "'he' + 'll' + 'o'"
   ]
  },
  {
   "cell_type": "markdown",
   "metadata": {},
   "source": [
    "## indexing"
   ]
  },
  {
   "cell_type": "code",
   "execution_count": 10,
   "metadata": {},
   "outputs": [
    {
     "name": "stdout",
     "output_type": "stream",
     "text": [
      "11\n",
      "c\n",
      "a\n",
      "l\n",
      "l\n",
      "y\n"
     ]
    }
   ],
   "source": [
    "a= 'calligraphy' #string indexing\n",
    "print(len(a))\n",
    "# positive indexing \n",
    "print(a[0]) #index 0\n",
    "print(a[1]) \n",
    "print(a[2])\n",
    "print(a[3])\n",
    "print(a[10])"
   ]
  },
  {
   "cell_type": "code",
   "execution_count": 11,
   "metadata": {},
   "outputs": [
    {
     "name": "stdout",
     "output_type": "stream",
     "text": [
      "y\n",
      "h\n",
      "p\n",
      "a\n",
      "c\n"
     ]
    }
   ],
   "source": [
    "\n",
    "#negative indexing (-1 is the last index)\n",
    "print(a[-1]) #last index\n",
    "print(a[-2])\n",
    "print(a[-3])\n",
    "print(a[-4])\n",
    "print(a[-11])"
   ]
  },
  {
   "cell_type": "markdown",
   "metadata": {},
   "source": [
    "## note: reverse loop in python using range()"
   ]
  },
  {
   "cell_type": "code",
   "execution_count": 12,
   "metadata": {},
   "outputs": [
    {
     "name": "stdout",
     "output_type": "stream",
     "text": [
      "10 y\n",
      "9 h\n",
      "8 p\n",
      "7 a\n",
      "6 r\n",
      "5 g\n",
      "4 i\n",
      "3 l\n",
      "2 l\n",
      "1 a\n"
     ]
    }
   ],
   "source": [
    "for i in range(10,0, -1):\n",
    "    print(i,a[i])"
   ]
  },
  {
   "cell_type": "code",
   "execution_count": 21,
   "metadata": {},
   "outputs": [
    {
     "name": "stdout",
     "output_type": "stream",
     "text": [
      "a l e x a\n",
      "alex\n",
      "ander\n"
     ]
    }
   ],
   "source": [
    "b= 'alexander'\n",
    "print(b[0], b[1],b[2],b[3],b[4]) #slow and boring\n",
    "#sclicing\n",
    "print(b[0:4])\n",
    "print(b[4:10])\n"
   ]
  },
  {
   "cell_type": "code",
   "execution_count": 30,
   "metadata": {},
   "outputs": [
    {
     "name": "stdout",
     "output_type": "stream",
     "text": [
      "vijay\n",
      "deenanath\n",
      "chahuan\n"
     ]
    }
   ],
   "source": [
    "name='vijay deenanath chahuan'\n",
    "print(name[0:5]) # starts from 0 and stop at 5\n",
    "print(name[6:15])\n",
    "print(name[16:23])\n"
   ]
  },
  {
   "cell_type": "markdown",
   "metadata": {},
   "source": [
    "## reverse a string "
   ]
  },
  {
   "cell_type": "code",
   "execution_count": 31,
   "metadata": {},
   "outputs": [
    {
     "name": "stdout",
     "output_type": "stream",
     "text": [
      "nauhahc htananeed yajiv\n"
     ]
    }
   ],
   "source": [
    "print(name[::-1]) # start from the end and stop at the beginning"
   ]
  },
  {
   "cell_type": "code",
   "execution_count": 32,
   "metadata": {},
   "outputs": [
    {
     "name": "stdout",
     "output_type": "stream",
     "text": [
      "1000\n"
     ]
    }
   ],
   "source": [
    "amount =\"$1000\"\n",
    "amount = int(amount[1:])\n",
    "print(amount)\n"
   ]
  },
  {
   "cell_type": "code",
   "execution_count": null,
   "metadata": {},
   "outputs": [],
   "source": []
  }
 ],
 "metadata": {
  "kernelspec": {
   "display_name": "base",
   "language": "python",
   "name": "python3"
  },
  "language_info": {
   "codemirror_mode": {
    "name": "ipython",
    "version": 3
   },
   "file_extension": ".py",
   "mimetype": "text/x-python",
   "name": "python",
   "nbconvert_exporter": "python",
   "pygments_lexer": "ipython3",
   "version": "3.11.5"
  }
 },
 "nbformat": 4,
 "nbformat_minor": 2
}
