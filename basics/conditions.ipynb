{
 "cells": [
  {
   "cell_type": "markdown",
   "metadata": {},
   "source": [
    "## if"
   ]
  },
  {
   "cell_type": "code",
   "execution_count": 3,
   "metadata": {},
   "outputs": [
    {
     "name": "stdout",
     "output_type": "stream",
     "text": [
      "pencil\n",
      "your word is long enough\n",
      "done\n"
     ]
    }
   ],
   "source": [
    "x= input('enter a word: ')\n",
    "print(x)\n",
    "if len(x) >=5:\n",
    "    print('your word is long enough')\n",
    "print('done')    "
   ]
  },
  {
   "cell_type": "code",
   "execution_count": 5,
   "metadata": {},
   "outputs": [
    {
     "name": "stdout",
     "output_type": "stream",
     "text": [
      "12233 is odd\n"
     ]
    }
   ],
   "source": [
    "num = int( input('enter a number:'))\n",
    "if num% 2== 0:\n",
    "    print(f'{num} is even')\n",
    "else:\n",
    "    print(f'{num} is odd')"
   ]
  },
  {
   "cell_type": "markdown",
   "metadata": {},
   "source": [
    "## nested if- else"
   ]
  },
  {
   "cell_type": "code",
   "execution_count": 11,
   "metadata": {},
   "outputs": [
    {
     "name": "stdout",
     "output_type": "stream",
     "text": [
      "1234 is greater than 100 \n"
     ]
    }
   ],
   "source": [
    "x = input('enter a number')\n",
    "if x.isnumeric ():\n",
    "    x= int(x)\n",
    "    if x>100:\n",
    "        print(f'{x} is greater than 100 ')\n",
    "    else:\n",
    "        print(f'{x} is smaller than 100')\n",
    "else:\n",
    "    print(f'{x} is not a number')    "
   ]
  },
  {
   "cell_type": "markdown",
   "metadata": {},
   "source": [
    "## if elif ladder"
   ]
  },
  {
   "cell_type": "code",
   "execution_count": 13,
   "metadata": {},
   "outputs": [
    {
     "name": "stdout",
     "output_type": "stream",
     "text": [
      " welcome to the restaurant!\n",
      "🍕italian pizza =>350.00 inr\n"
     ]
    }
   ],
   "source": [
    "print(\" welcome to the restaurant!\")\n",
    "dish = input (' enter the dish name')\n",
    "if dish == 'dosa':\n",
    "    print('🧇south indian dosa => 70.00 inr')\n",
    "elif dish == 'pizza':\n",
    "    print('🍕italian pizza =>350.00 inr')\n",
    "elif dish == 'burgur':\n",
    "    print('🍔american burger => 150.00 inr')\n",
    "else:\n",
    "    print('sorry we do not have that dish ')"
   ]
  },
  {
   "cell_type": "markdown",
   "metadata": {},
   "source": [
    "## match case(simillar to switch case)"
   ]
  },
  {
   "cell_type": "code",
   "execution_count": 18,
   "metadata": {},
   "outputs": [
    {
     "name": "stdout",
     "output_type": "stream",
     "text": [
      " the menu\n",
      "select a category\n",
      "1. Indian\n",
      "2. Itallian\n",
      "3. American\n",
      "➡️invalid category\n"
     ]
    }
   ],
   "source": [
    "print (' the menu')\n",
    "print(\"select a category\\n1. Indian\\n2. Itallian\\n3. American\")\n",
    "choice = int (input('enter a number form menu'))\n",
    "match choice:\n",
    "    case 1: print('➡️ indian dishes\\n1. dosa\\n2. idli\\n3. sambar')\n",
    "    case 2: print('➡️Italian dishes\\n1.pizza\\n2. pasta\\n3.lasanga')\n",
    "    case 3: print('➡️american dishes\\n1. burger\\n2. hot dog\\n3. fries')\n",
    "    case _: print('➡️invalid category')\n"
   ]
  },
  {
   "cell_type": "markdown",
   "metadata": {},
   "source": []
  },
  {
   "cell_type": "code",
   "execution_count": 2,
   "metadata": {},
   "outputs": [
    {
     "name": "stdout",
     "output_type": "stream",
     "text": [
      "menu:\n",
      "select a category:\n",
      "-> indian\n",
      "-> italian\n",
      "-> chinese\n",
      "-> american\n",
      "---> dosa\n",
      "---> idli\n",
      "---> sambar\n"
     ]
    }
   ],
   "source": [
    "indian = ['dosa','idli', 'sambar']# list\n",
    "italian =['pizza','pasta','lasanga']\n",
    "chinese =['nodeles','fried rice','machurian']\n",
    "american=['burger',' hot dog','fries']\n",
    "menu= ['indian','italian','chinese','american']\n",
    "print ('menu:')\n",
    "print('select a category:')\n",
    "for choice in menu:\n",
    "    print ('->', choice)\n",
    "ch= input ('select one:')\n",
    "# print (ch)\n",
    "match ch:\n",
    "    case 'indian':\n",
    "        for dish in indian: print('--->',dish)\n",
    "    case 'italian':\n",
    "        for dish in italian: print(\"--->\",dish )\n",
    "    case 'chinese':\n",
    "        for dish in chinese:print('--->',dish)\n",
    "    case 'american':\n",
    "        for dish in american:print('--->',dish)\n",
    "    case _: \n",
    "        print('->>>> invalid category<<<<<-')\n",
    "    \n",
    "          \n"
   ]
  },
  {
   "cell_type": "markdown",
   "metadata": {},
   "source": []
  }
 ],
 "metadata": {
  "kernelspec": {
   "display_name": "base",
   "language": "python",
   "name": "python3"
  },
  "language_info": {
   "codemirror_mode": {
    "name": "ipython",
    "version": 3
   },
   "file_extension": ".py",
   "mimetype": "text/x-python",
   "name": "python",
   "nbconvert_exporter": "python",
   "pygments_lexer": "ipython3",
   "version": "3.11.5"
  }
 },
 "nbformat": 4,
 "nbformat_minor": 2
}
