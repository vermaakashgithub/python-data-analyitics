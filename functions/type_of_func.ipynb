{
 "cells": [
  {
   "cell_type": "markdown",
   "metadata": {},
   "source": [
    "# types of function on basis of signature\n",
    "- no parameter & return value \n",
    "fun() ->none\n",
    "- fun returning value & no parameter \n",
    "fun() -> int\n",
    "-parameterized function & no return value\n",
    " fun(a,b) -> none\n",
    "- parameterized function with return value \n",
    "fun(a,b) -> str\n"
   ]
  },
  {
   "cell_type": "code",
   "execution_count": 2,
   "metadata": {},
   "outputs": [],
   "source": [
    "# fun define\n",
    "def greetings():\n",
    "    print('☀️'*7)\n",
    "    print('☀️Good Morning☀️')\n",
    "    print('☀️'*7)\n",
    "    "
   ]
  },
  {
   "cell_type": "code",
   "execution_count": 3,
   "metadata": {},
   "outputs": [
    {
     "name": "stdout",
     "output_type": "stream",
     "text": [
      "☀️☀️☀️☀️☀️☀️☀️\n",
      "☀️Good Morning☀️\n",
      "☀️☀️☀️☀️☀️☀️☀️\n"
     ]
    }
   ],
   "source": [
    "# calling fun\n",
    "greetings()"
   ]
  },
  {
   "cell_type": "code",
   "execution_count": 5,
   "metadata": {},
   "outputs": [],
   "source": [
    "# 2 case\n",
    "from random import choice\n",
    "def generate_name():\n",
    "    fnames = ['🦇bat','bird','mouse','chicken','dog']\n",
    "    lnames = ['man','women','boy','girl']\n",
    "    return choice(fnames)+choice(lnames)"
   ]
  },
  {
   "cell_type": "code",
   "execution_count": 6,
   "metadata": {},
   "outputs": [
    {
     "name": "stdout",
     "output_type": "stream",
     "text": [
      "chickengirl\n"
     ]
    }
   ],
   "source": [
    "hero = generate_name()\n",
    "print(hero)"
   ]
  },
  {
   "cell_type": "code",
   "execution_count": 10,
   "metadata": {},
   "outputs": [
    {
     "name": "stdout",
     "output_type": "stream",
     "text": [
      "🦇batboy\n",
      "mouseman\n",
      "dogboy\n",
      "🦇batgirl\n",
      "mousewomen\n",
      "mousewomen\n",
      "birdman\n",
      "🦇batgirl\n",
      "🦇batboy\n",
      "dogman\n"
     ]
    }
   ],
   "source": [
    "# in loop \n",
    "for i in range(10):\n",
    "    print(generate_name())"
   ]
  },
  {
   "cell_type": "code",
   "execution_count": 21,
   "metadata": {},
   "outputs": [],
   "source": [
    "# case 3\n",
    "def text_cake(name, age):\n",
    "    layers = age//2\n",
    "    s = 10\n",
    "    print('🕯️ '.center(s))\n",
    "    print(str('~'*3).center(s))\n",
    "    print(str('#'*5).center(s))\n",
    "    for i in range (layers):print('~'*s)\n",
    "    print(name.center(s,'~'))"
   ]
  },
  {
   "cell_type": "code",
   "execution_count": 23,
   "metadata": {},
   "outputs": [
    {
     "name": "stdout",
     "output_type": "stream",
     "text": [
      "   🕯️     \n",
      "   ~~~    \n",
      "  #####   \n",
      "~~~~~~~~~~\n",
      "~~~~~~~~~~\n",
      "~~~Aman~~~\n"
     ]
    }
   ],
   "source": [
    "text_cake('Aman', 4)"
   ]
  },
  {
   "cell_type": "code",
   "execution_count": 26,
   "metadata": {},
   "outputs": [
    {
     "name": "stdout",
     "output_type": "stream",
     "text": [
      "25 175\n"
     ]
    }
   ],
   "source": [
    "## case 4 \n",
    "def add(a,b):\n",
    "    return a+b\n",
    "ans = add(12,13)\n",
    "new_ans = add(ans,150)\n",
    "print(ans, new_ans)"
   ]
  },
  {
   "cell_type": "code",
   "execution_count": 27,
   "metadata": {},
   "outputs": [
    {
     "data": {
      "text/plain": [
       "28.181818181818183"
      ]
     },
     "execution_count": 27,
     "metadata": {},
     "output_type": "execute_result"
    }
   ],
   "source": [
    "add(12,13) * add(12,50) / add(23,32)"
   ]
  },
  {
   "cell_type": "code",
   "execution_count": 28,
   "metadata": {},
   "outputs": [
    {
     "data": {
      "text/plain": [
       "28.181818181818183"
      ]
     },
     "execution_count": 28,
     "metadata": {},
     "output_type": "execute_result"
    }
   ],
   "source": [
    "a=add(12,13) \n",
    "b=add(12,50)\n",
    "c=add(23,32)\n",
    "a*b/c"
   ]
  },
  {
   "cell_type": "markdown",
   "metadata": {},
   "source": [
    "- create functions \n",
    "1. waf to return the compound interest for given P,R,T\n",
    "2. waf  to return  all the words starting with letter given as parameter \n",
    "3. waf to return the factorial of a given number"
   ]
  },
  {
   "cell_type": "code",
   "execution_count": 1,
   "metadata": {},
   "outputs": [],
   "source": [
    "def read_file(path):\n",
    "    with open (path, errors= 'ignore') as f:\n",
    "        content = f.read()\n",
    "    return content\n",
    "    "
   ]
  },
  {
   "cell_type": "code",
   "execution_count": null,
   "metadata": {},
   "outputs": [],
   "source": [
    "out = read_file()\n",
    "words = out.split()\n",
    "print(len(words))"
   ]
  },
  {
   "cell_type": "code",
   "execution_count": 12,
   "metadata": {},
   "outputs": [
    {
     "name": "stdout",
     "output_type": "stream",
     "text": [
      "the compound interest is:464.10\n"
     ]
    }
   ],
   "source": [
    "def calculate_compound_interest(priciple, rate, time):# formula of compound interest: A= p* (1+r/100) (nt)-p\n",
    "    rate_decimal= (rate /100)\n",
    "    amount= priciple*(1+rate_decimal)**(time)\n",
    "    compound_interest= amount-priciple\n",
    "    return compound_interest\n",
    "principal_amount = 1000\n",
    "anual_interest_rate = 10\n",
    "time_in_year= 4\n",
    "result = calculate_compound_interest(principal_amount, anual_interest_rate,time_in_year)\n",
    "print(f'the compound interest is:{result:.2f}')\n"
   ]
  },
  {
   "cell_type": "code",
   "execution_count": 4,
   "metadata": {},
   "outputs": [],
   "source": [
    "def factorial(n):\n",
    "    if n == 0 or n == 1:\n",
    "        return 1\n",
    "    else:\n",
    "        return n * factorial(n-1)\n",
    "    ans= (factorial(0))\n",
    "    print(ans)"
   ]
  },
  {
   "cell_type": "code",
   "execution_count": 7,
   "metadata": {},
   "outputs": [
    {
     "data": {
      "text/plain": [
       "1"
      ]
     },
     "execution_count": 7,
     "metadata": {},
     "output_type": "execute_result"
    }
   ],
   "source": [
    "factorial(1)"
   ]
  },
  {
   "cell_type": "code",
   "execution_count": 34,
   "metadata": {},
   "outputs": [
    {
     "name": "stdout",
     "output_type": "stream",
     "text": [
      "['aman', 'arpit']\n"
     ]
    }
   ],
   "source": [
    "def words_starting_with_letter(word_list, starting_letter):\n",
    "    return [word for word in word_list if word.startswith(starting_letter)]\n",
    "word_list = ['aman','raju','shivam','arpit']\n",
    "starting_letter = 'a'\n",
    "result =  words_starting_with_letter(word_list, starting_letter)\n",
    "print (result)\n",
    "\n",
    "\n"
   ]
  },
  {
   "cell_type": "code",
   "execution_count": null,
   "metadata": {},
   "outputs": [],
   "source": []
  }
 ],
 "metadata": {
  "kernelspec": {
   "display_name": "base",
   "language": "python",
   "name": "python3"
  },
  "language_info": {
   "codemirror_mode": {
    "name": "ipython",
    "version": 3
   },
   "file_extension": ".py",
   "mimetype": "text/x-python",
   "name": "python",
   "nbconvert_exporter": "python",
   "pygments_lexer": "ipython3",
   "version": "3.11.5"
  }
 },
 "nbformat": 4,
 "nbformat_minor": 2
}
